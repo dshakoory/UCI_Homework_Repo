{
 "cells": [
  {
   "cell_type": "code",
   "execution_count": 5,
   "metadata": {},
   "outputs": [],
   "source": [
    "#importing the dependencies \n",
    "import requests as req\n",
    "import pandas as pd\n",
    "import numpy as np\n",
    "import matplotlib.pyplot as plt\n",
    "import seaborn as sns\n",
    "import os\n",
    "#import cenpy as cen\n",
    "#import pysal\n",
    "#import plotly\n",
    "#import plotly.plotly as py\n",
    "#import plotly.graph_objs as go"
   ]
  },
  {
   "cell_type": "code",
   "execution_count": 7,
   "metadata": {},
   "outputs": [
    {
     "ename": "IndentationError",
     "evalue": "unindent does not match any outer indentation level (<tokenize>, line 3)",
     "output_type": "error",
     "traceback": [
      "\u001b[1;36m  File \u001b[1;32m\"<tokenize>\"\u001b[1;36m, line \u001b[1;32m3\u001b[0m\n\u001b[1;33m    data['state'] = data['state'].replace('02','AK')\u001b[0m\n\u001b[1;37m    ^\u001b[0m\n\u001b[1;31mIndentationError\u001b[0m\u001b[1;31m:\u001b[0m unindent does not match any outer indentation level\n"
     ]
    }
   ],
   "source": [
    "def state_abb(data):\n",
    "     data['state'] = data['state'].replace('01','AL')\n",
    "    data['state'] = data['state'].replace('02','AK')\n",
    "    data['state'] = data['state'].replace('04','AZ')\n",
    "    data['state'] = data['state'].replace('05','AR')\n",
    "    data['state'] = data['state'].replace('06','CA')\n",
    "    data['state'] = data['state'].replace('08','CO')\n",
    "    data['state'] = data['state'].replace('09','CT')\n",
    "    data['state'] = data['state'].replace('10','DE')\n",
    "    data['state'] = data['state'].replace('11','DC')\n",
    "    data['state'] = data['state'].replace('12','FL')\n",
    "    data['state'] = data['state'].replace('13','GA')\n",
    "    data['state'] = data['state'].replace('15','HI')\n",
    "    data['state'] = data['state'].replace('16','ID')\n",
    "    data['state'] = data['state'].replace('17','IL')\n",
    "    data['state'] = data['state'].replace('18','IN')\n",
    "    data['state'] = data['state'].replace('19','IA')\n",
    "    data['state'] = data['state'].replace('20','KS')\n",
    "    data['state'] = data['state'].replace('21','KY')\n",
    "    data['state'] = data['state'].replace('22','LA')\n",
    "    data['state'] = data['state'].replace('23','ME')\n",
    "    data['state'] = data['state'].replace('24','MD')\n",
    "    data['state'] = data['state'].replace('25','MA')\n",
    "    data['state'] = data['state'].replace('26','MI')\n",
    "    data['state'] = data['state'].replace('27','MN')\n",
    "    data['state'] = data['state'].replace('28','MS')\n",
    "    data['state'] = data['state'].replace('29','MO')\n",
    "    data['state'] = data['state'].replace('30','MT')\n",
    "    data['state'] = data['state'].replace('31','NE')\n",
    "    data['state'] = data['state'].replace('32','NV')\n",
    "    data['state'] = data['state'].replace('33','NH')\n",
    "    data['state'] = data['state'].replace('34','NJ')\n",
    "    data['state'] = data['state'].replace('35','NM')\n",
    "    data['state'] = data['state'].replace('36','NY')\n",
    "    data['state'] = data['state'].replace('37','NC')\n",
    "    data['state'] = data['state'].replace('38','ND')\n",
    "    data['state'] = data['state'].replace('39','OH')\n",
    "    data['state'] = data['state'].replace('40','OK')\n",
    "    data['state'] = data['state'].replace('41','OR')\n",
    "    data['state'] = data['state'].replace('42','PA')\n",
    "    data['state'] = data['state'].replace('44','RI')\n",
    "    data['state'] = data['state'].replace('45','SC')\n",
    "    data['state'] = data['state'].replace('46','SD')\n",
    "    data['state'] = data['state'].replace('47','TN')\n",
    "    data['state'] = data['state'].replace('48','TX')\n",
    "    data['state'] = data['state'].replace('49','UT')\n",
    "    data['state'] = data['state'].replace('50','VT')\n",
    "    data['state'] = data['state'].replace('51','VA')\n",
    "    data['state'] = data['state'].replace('53','WA')\n",
    "    data['state'] = data['state'].replace('54','WV')\n",
    "    data['state'] = data['state'].replace('55','WI')\n",
    "    data['state'] = data['state'].replace('56','WY')"
   ]
  },
  {
   "cell_type": "code",
   "execution_count": null,
   "metadata": {},
   "outputs": [],
   "source": []
  }
 ],
 "metadata": {
  "kernelspec": {
   "display_name": "Python 3",
   "language": "python",
   "name": "python3"
  }
 },
 "nbformat": 4,
 "nbformat_minor": 2
}
